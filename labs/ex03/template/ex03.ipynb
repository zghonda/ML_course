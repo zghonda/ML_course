{
 "cells": [
  {
   "cell_type": "code",
   "execution_count": 85,
   "metadata": {
    "pycharm": {
     "is_executing": false
    }
   },
   "outputs": [
    {
     "name": "stdout",
     "output_type": "stream",
     "text": [
      "The autoreload extension is already loaded. To reload it, use:\n",
      "  %reload_ext autoreload\n"
     ]
    }
   ],
   "source": [
    "# Useful starting lines\n",
    "%matplotlib inline\n",
    "import numpy as np\n",
    "import matplotlib.pyplot as plt\n",
    "from costs import *\n",
    "%load_ext autoreload\n",
    "%autoreload 2"
   ]
  },
  {
   "cell_type": "markdown",
   "metadata": {},
   "source": [
    "# 1 Least squares and linear basis functions models\n",
    "## 1.1 Least squares"
   ]
  },
  {
   "cell_type": "code",
   "execution_count": 86,
   "metadata": {
    "pycharm": {
     "is_executing": false
    }
   },
   "outputs": [],
   "source": [
    "def least_squares(y, tx):\n",
    "    \"\"\"calculate the least squares solution.\"\"\"\n",
    "    w_star = np.linalg.inv(tx.T@tx)@(tx.T)@y\n",
    "    loss = compute_loss_mse(y,tx,w_star)\n",
    "    return loss, w_star"
   ]
  },
  {
   "cell_type": "markdown",
   "metadata": {},
   "source": [
    "### Load the data\n",
    "Here we will reuse the dataset `height_weight_genders.csv` from previous exercise section to check the correctness of your implementation. Please compare it with your previous result."
   ]
  },
  {
   "cell_type": "code",
   "execution_count": 87,
   "metadata": {
    "pycharm": {
     "is_executing": false
    }
   },
   "outputs": [],
   "source": [
    "from helpers import *\n",
    "from grid_search import *\n",
    "def test_your_least_squares():\n",
    "    height, weight, gender = load_data_from_ex02(sub_sample=False, add_outlier=False)\n",
    "    x, mean_x, std_x = standardize(height)\n",
    "    y, tx = build_model_data(x, weight)\n",
    "\n",
    "    # Grid search \n",
    "    grid_w0, grid_w1 = generate_w(num_intervals=100)\n",
    "    grid_losses = grid_search(y, tx, grid_w0, grid_w1)\n",
    "    loss_star, w0_star, w1_star = get_best_parameters(grid_w0, grid_w1, grid_losses)\n",
    "    \n",
    "    print(\"Grid search : loss= {} W={}, {}\".format(loss_star,w0_star,w1_star))\n",
    "    \n",
    "    # least squares\n",
    "    loss,w_star = least_squares(y,tx)\n",
    "    print(\"least squares : loss= {} W= {}\".format(loss,w_star))\n",
    "    "
   ]
  },
  {
   "cell_type": "markdown",
   "metadata": {},
   "source": [
    "Test it here"
   ]
  },
  {
   "cell_type": "code",
   "execution_count": 88,
   "metadata": {
    "pycharm": {
     "is_executing": false
    }
   },
   "outputs": [
    {
     "name": "stdout",
     "output_type": "stream",
     "text": [
      "Grid search : loss= 15.55870336860953 W=72.72727272727272, 13.636363636363626\n",
      "least squares : loss= 15.385887868829403 W= [73.293922   13.47971243]\n"
     ]
    }
   ],
   "source": [
    "test_your_least_squares()"
   ]
  },
  {
   "cell_type": "markdown",
   "metadata": {},
   "source": [
    "## 1.2 Least squares with a linear basis function model\n",
    "Start from this section, we will use the dataset `dataEx3.csv`.\n",
    "\n",
    "### Implement polynomial basis functions"
   ]
  },
  {
   "cell_type": "code",
   "execution_count": 89,
   "metadata": {
    "pycharm": {
     "is_executing": false
    },
    "scrolled": true
   },
   "outputs": [
    {
     "name": "stdout",
     "output_type": "stream",
     "text": [
      "shape of x (50,)\n",
      "shape of y (50,)\n"
     ]
    }
   ],
   "source": [
    "# load dataset\n",
    "x, y = load_data()\n",
    "print(\"shape of x {}\".format(x.shape))\n",
    "print(\"shape of y {}\".format(y.shape))"
   ]
  },
  {
   "cell_type": "code",
   "execution_count": 90,
   "metadata": {
    "pycharm": {
     "is_executing": false
    }
   },
   "outputs": [],
   "source": [
    "def build_poly(x, degree):\n",
    "    \"\"\"polynomial basis functions for input data x, for j=0 up to j=degree.\"\"\"\n",
    "    fn = lambda a: [pow(a, d) for d in range(0, degree + 1)]\n",
    "    result = map(fn, x)\n",
    "    return np.asarray(list(result))"
   ]
  },
  {
   "cell_type": "markdown",
   "metadata": {},
   "source": [
    "Let us play with polynomial regression. Note that we will use your implemented function `compute_mse`. Please copy and paste your implementation from exercise02."
   ]
  },
  {
   "cell_type": "code",
   "execution_count": 91,
   "metadata": {
    "pycharm": {
     "is_executing": false
    }
   },
   "outputs": [],
   "source": [
    "from plots import *\n",
    "\n",
    "def polynomial_regression():\n",
    "    \"\"\"Constructing the polynomial basis function expansion of the data,\n",
    "       and then running least squares regression.\"\"\"\n",
    "    # define parameters\n",
    "    degrees = [1, 3, 7, 12]\n",
    "    \n",
    "    # define the structure of the figure\n",
    "    num_row = 2\n",
    "    num_col = 2\n",
    "    f, axs = plt.subplots(num_row, num_col)\n",
    "\n",
    "    for ind, degree in enumerate(degrees):\n",
    "        # transform to polynome\n",
    "        x_poly = build_poly(x,degree)\n",
    "       \n",
    "        # Apply least squares method\n",
    "        loss,weights=least_squares(y,x_poly)\n",
    "        \n",
    "        rmse = np.sqrt(2*loss)\n",
    "        \n",
    "        print(\"Processing {i}th experiment, degree={d}, rmse={loss}\".format(\n",
    "              i=ind + 1, d=degree, loss=rmse))\n",
    "        # plot fit\n",
    "        plot_fitted_curve(\n",
    "            y, x, weights, degree, axs[ind // num_col][ind % num_col])\n",
    "    plt.tight_layout()\n",
    "    plt.savefig(\"visualize_polynomial_regression\")\n",
    "    plt.show()"
   ]
  },
  {
   "cell_type": "markdown",
   "metadata": {},
   "source": [
    "Run polynomial regression"
   ]
  },
  {
   "cell_type": "code",
   "execution_count": 92,
   "metadata": {
    "pycharm": {
     "is_executing": false
    }
   },
   "outputs": [
    {
     "name": "stdout",
     "output_type": "stream",
     "text": [
      "Processing 1th experiment, degree=1, rmse=0.47187607963421874\n",
      "Processing 2th experiment, degree=3, rmse=0.258582776677375\n",
      "Processing 3th experiment, degree=7, rmse=0.2496587036090753\n",
      "Processing 4th experiment, degree=12, rmse=0.9268294526468844\n"
     ]
    },
    {
     "data": {
      "image/png": "[encoded data removed]",
      "text/plain": [
       "<Figure size 432x288 with 4 Axes>"
      ]
     },
     "metadata": {
      "needs_background": "light"
     },
     "output_type": "display_data"
    }
   ],
   "source": [
    "polynomial_regression()"
   ]
  },
  {
   "cell_type": "markdown",
   "metadata": {},
   "source": [
    "# 2 Evaluating model predication performance\n",
    "\n",
    "\n",
    "Let us show the train and test splits for various polynomial degrees. First of all, please fill in the function `split_data()`"
   ]
  },
  {
   "cell_type": "code",
   "execution_count": 93,
   "metadata": {
    "pycharm": {
     "is_executing": false
    }
   },
   "outputs": [],
   "source": [
    "def split_data(x, y, ratio, seed=1):\n",
    "    \"\"\"\n",
    "    split the dataset based on the split ratio. If ratio is 0.8 \n",
    "    you will have 80% of your data set dedicated to training \n",
    "    and the rest dedicated to testing\n",
    "    \"\"\"\n",
    "    # set seed\n",
    "    np.random.seed(seed)\n",
    "    # shuffle data\n",
    "    np.random.shuffle(x)\n",
    "    np.random.shuffle(y)\n",
    "    \n",
    "    threshold = int(ratio*x.shape[0])\n",
    "    \n",
    "    x_train,y_train = x[:threshold],y[:threshold]\n",
    "    x_test,y_test = x[threshold:],y[threshold:]\n",
    "    \n",
    "    return x_train,y_train,x_test,y_test"
   ]
  },
  {
   "cell_type": "markdown",
   "metadata": {},
   "source": [
    "Then, test your `split_data` function below."
   ]
  },
  {
   "cell_type": "code",
   "execution_count": 94,
   "metadata": {
    "pycharm": {
     "is_executing": false
    }
   },
   "outputs": [],
   "source": [
    "def train_test_split_demo(x, y, degree, ratio, seed):\n",
    "    \"\"\"polynomial regression with different split ratios and different degrees.\"\"\"\n",
    "    # Split the data\n",
    "    x_train,y_train,x_test,y_test = split_data(x,y,ratio,seed)\n",
    "    \n",
    "    # Build polynomials\n",
    "    x_train_poly=build_poly(x_train,degree)\n",
    "    x_test_poly=build_poly(x_test,degree)\n",
    "    \n",
    "    # Apply least squares method\n",
    "    loss_tr,weights_tr=least_squares(y_train,x_train_poly)\n",
    "    loss_te,weights_te=least_squares(y_test,x_test_poly)\n",
    "    \n",
    "    # Compute rmse\n",
    "    rmse_tr = np.sqrt(2*loss_tr)\n",
    "    rmse_te = np.sqrt(2*loss_te)\n",
    "    print(\"proportion={p}, degree={d}, Training RMSE={tr:.3f}, Testing RMSE={te:.3f}\".format(\n",
    "          p=ratio, d=degree, tr=rmse_tr, te=rmse_te))\n"
   ]
  },
  {
   "cell_type": "code",
   "execution_count": 105,
   "metadata": {
    "pycharm": {
     "is_executing": false
    }
   },
   "outputs": [
    {
     "name": "stdout",
     "output_type": "stream",
     "text": [
      "proportion=0.9, degree=1, Training RMSE=0.710, Testing RMSE=0.650\n",
      "proportion=0.9, degree=3, Training RMSE=0.692, Testing RMSE=0.245\n",
      "proportion=0.9, degree=7, Training RMSE=0.675, Testing RMSE=1.767\n",
      "proportion=0.9, degree=12, Training RMSE=0.636, Testing RMSE=19.518\n",
      "proportion=0.5, degree=1, Training RMSE=0.705, Testing RMSE=0.709\n",
      "proportion=0.5, degree=3, Training RMSE=0.619, Testing RMSE=0.660\n",
      "proportion=0.5, degree=7, Training RMSE=0.691, Testing RMSE=0.581\n",
      "proportion=0.5, degree=12, Training RMSE=0.488, Testing RMSE=0.685\n",
      "proportion=0.1, degree=1, Training RMSE=0.509, Testing RMSE=0.701\n",
      "proportion=0.1, degree=3, Training RMSE=0.106, Testing RMSE=0.683\n",
      "proportion=0.1, degree=7, Training RMSE=0.519, Testing RMSE=0.588\n",
      "proportion=0.1, degree=12, Training RMSE=0.831, Testing RMSE=0.820\n"
     ]
    }
   ],
   "source": [
    "seed = 6\n",
    "degrees = [1, 3, 7, 12]\n",
    "split_ratios = [0.9, 0.5, 0.1]\n",
    "\n",
    "for split_ratio in split_ratios:\n",
    "    for degree in degrees:\n",
    "        train_test_split_demo(x, y, degree, split_ratio, seed)"
   ]
  },
  {
   "cell_type": "markdown",
   "metadata": {},
   "source": [
    "# 3 Ridge Regression\n",
    "Please fill in the function below."
   ]
  },
  {
   "cell_type": "code",
   "execution_count": 96,
   "metadata": {
    "pycharm": {
     "is_executing": false
    }
   },
   "outputs": [],
   "source": [
    "def ridge_regression(y, tx, lambda_):\n",
    "    \"\"\"implement ridge regression.\"\"\"\n",
    "    lambda_bis = lambda_/(2*len(y))\n",
    "    fst_term = np.linalg.inv(tx.T@tx + lambda_bis * np.identity(tx.shape[1]))\n",
    "    snd_term = tx.T@y\n",
    "    w_star = fst_term@snd_term\n",
    "    return w_star"
   ]
  },
  {
   "cell_type": "code",
   "execution_count": 106,
   "metadata": {
    "pycharm": {
     "is_executing": false
    }
   },
   "outputs": [],
   "source": [
    "def ridge_regression_demo(x, y, degree, ratio, seed):\n",
    "    \"\"\"ridge regression demo.\"\"\"\n",
    "    # define parameter\n",
    "    lambdas = np.logspace(-5, 0, 15)\n",
    " \n",
    "    # Split the data\n",
    "    x_train,y_train,x_test,y_test = split_data(x,y,ratio,seed)\n",
    "   \n",
    "    # Build polynomials\n",
    "    x_train_poly=build_poly(x_train,degree)\n",
    "    x_test_poly=build_poly(x_test,degree)\n",
    "    \n",
    "    rmse_tr = []\n",
    "    rmse_te = []\n",
    "    for ind, lambda_ in enumerate(lambdas):\n",
    "        \n",
    "        weights_tr=ridge_regression(y_train,x_train_poly,lambda_)\n",
    "        weights_te=ridge_regression(y_test, x_test_poly,lambda_)\n",
    "        \n",
    "        loss_tr = compute_loss_mse(y_train,x_train_poly,weights_tr) + lambda_*np.linalg.norm(weights_tr)**2\n",
    "        loss_te = compute_loss_mse(y_test,x_test_poly,weights_te) + lambda_*np.linalg.norm(weights_te)**2\n",
    "        \n",
    "        rmse_tr.append(np.sqrt(2*loss_tr))\n",
    "        rmse_te.append(np.sqrt(2*loss_te))\n",
    "        \n",
    "        print(\"proportion={p}, degree={d}, lambda={l:.3f}, Training RMSE={tr:.3f}, Testing RMSE={te:.3f}\".format(\n",
    "               p=ratio, d=degree, l=lambda_, tr=rmse_tr[ind], te=rmse_te[ind]))\n",
    "        \n",
    "    # Plot the obtained results\n",
    "    plot_train_test(rmse_tr, rmse_te, lambdas, degree)\n",
    "\n"
   ]
  },
  {
   "cell_type": "code",
   "execution_count": 116,
   "metadata": {
    "pycharm": {
     "is_executing": false
    }
   },
   "outputs": [
    {
     "name": "stdout",
     "output_type": "stream",
     "text": [
      "proportion=0.5, degree=7, lambda=0.000, Training RMSE=0.466, Testing RMSE=0.641\n",
      "proportion=0.5, degree=7, lambda=0.000, Training RMSE=0.474, Testing RMSE=0.651\n",
      "proportion=0.5, degree=7, lambda=0.000, Training RMSE=0.492, Testing RMSE=0.673\n",
      "proportion=0.5, degree=7, lambda=0.000, Training RMSE=0.531, Testing RMSE=0.722\n",
      "proportion=0.5, degree=7, lambda=0.000, Training RMSE=0.608, Testing RMSE=0.822\n",
      "proportion=0.5, degree=7, lambda=0.001, Training RMSE=0.752, Testing RMSE=1.012\n",
      "proportion=0.5, degree=7, lambda=0.001, Training RMSE=0.989, Testing RMSE=1.339\n",
      "proportion=0.5, degree=7, lambda=0.003, Training RMSE=1.332, Testing RMSE=1.854\n",
      "proportion=0.5, degree=7, lambda=0.007, Training RMSE=1.745, Testing RMSE=2.587\n",
      "proportion=0.5, degree=7, lambda=0.016, Training RMSE=2.091, Testing RMSE=3.486\n",
      "proportion=0.5, degree=7, lambda=0.037, Training RMSE=2.183, Testing RMSE=4.325\n",
      "proportion=0.5, degree=7, lambda=0.085, Training RMSE=1.978, Testing RMSE=4.749\n",
      "proportion=0.5, degree=7, lambda=0.193, Training RMSE=1.667, Testing RMSE=4.703\n",
      "proportion=0.5, degree=7, lambda=0.439, Training RMSE=1.477, Testing RMSE=4.665\n",
      "proportion=0.5, degree=7, lambda=1.000, Training RMSE=1.462, Testing RMSE=5.010\n"
     ]
    },
    {
     "data": {
      "image/png": "[encoded data removed]",
      "text/plain": [
       "<Figure size 432x288 with 1 Axes>"
      ]
     },
     "metadata": {
      "needs_background": "light"
     },
     "output_type": "display_data"
    }
   ],
   "source": [
    "seed = 56\n",
    "degree = 7\n",
    "split_ratio = 0.5\n",
    "ridge_regression_demo(x, y, degree, split_ratio, seed)"
   ]
  }
 ],
 "metadata": {
  "anaconda-cloud": {},
  "kernelspec": {
   "display_name": "Python 3",
   "language": "python",
   "name": "python3"
  },
  "language_info": {
   "codemirror_mode": {
    "name": "ipython",
    "version": 3
   },
   "file_extension": ".py",
   "mimetype": "text/x-python",
   "name": "python",
   "nbconvert_exporter": "python",
   "pygments_lexer": "ipython3",
   "version": "3.7.4"
  },
  "pycharm": {
   "stem_cell": {
    "cell_type": "raw",
    "metadata": {
     "collapsed": false
    },
    "source": []
   }
  }
 },
 "nbformat": 4,
 "nbformat_minor": 4
}
